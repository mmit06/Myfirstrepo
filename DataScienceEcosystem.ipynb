{
 "cells": [
  {
   "cell_type": "markdown",
   "id": "09a3719b-07c9-41d8-a8fa-c39107573913",
   "metadata": {},
   "source": [
    "# Notebook DataScienceEcosystem"
   ]
  },
  {
   "cell_type": "markdown",
   "id": "e7e5a940-c621-47e8-be20-359962d25b8d",
   "metadata": {},
   "source": [
    "### In this notebook, Data Science Tools and Ecosystem are summarized."
   ]
  },
  {
   "cell_type": "markdown",
   "id": "b071dda1-d4b4-490d-9659-cd3a005424c4",
   "metadata": {},
   "source": [
    "**Objectives:**\n",
    "* List popular languages for Data Science\n",
    "* Identify commonly used libraries in Data Science\n",
    "* Describe popular open source development tools for Data Science\n",
    "* Demonstrate how to evaluate arithmetic expressions in Python"
   ]
  },
  {
   "cell_type": "markdown",
   "id": "06b58798-4aa3-4177-a660-f0129299066e",
   "metadata": {},
   "source": [
    "### Some of the popular languages that Data Scientists use are:\n",
    "\n",
    "1.  Python\n",
    "2.  R\n",
    "3.  SQL"
   ]
  },
  {
   "cell_type": "markdown",
   "id": "ab392dfb-f2fd-44e8-b3c3-acc08ef53aa7",
   "metadata": {},
   "source": [
    "### Some of the commonly used libraries used by Data Scientists include:\n",
    "1. Matplotlib\n",
    "2. NumPy\n",
    "3. SciPy"
   ]
  },
  {
   "cell_type": "markdown",
   "id": "e8e9e7ad-af7c-4983-8340-d6edab3e7866",
   "metadata": {},
   "source": [
    "| Data Science Tools |\n",
    "|--------------------|\n",
    "| Jupyter Notebooks  |\n",
    "| RStudio            |\n",
    "| VS Code            |"
   ]
  },
  {
   "cell_type": "markdown",
   "id": "2f049f20-9a29-44de-ad67-8ff23d68e1ed",
   "metadata": {},
   "source": [
    "### Below are a few examples of evaluating arithmetic expressions in Python."
   ]
  },
  {
   "cell_type": "code",
   "execution_count": 14,
   "id": "03c31164-a245-460c-a0e1-6613c77c4181",
   "metadata": {},
   "outputs": [
    {
     "data": {
      "text/plain": [
       "17"
      ]
     },
     "execution_count": 14,
     "metadata": {},
     "output_type": "execute_result"
    }
   ],
   "source": [
    "(3*4)+5"
   ]
  },
  {
   "cell_type": "markdown",
   "id": "33c0fef4-93d0-421c-9fe6-591c95418a06",
   "metadata": {},
   "source": [
    "##### This a simple arithmetic expression to mutiply then add integers."
   ]
  },
  {
   "cell_type": "code",
   "execution_count": 15,
   "id": "5647ed4f-4999-4820-8cbe-ed3f08ba6333",
   "metadata": {},
   "outputs": [
    {
     "data": {
      "text/plain": [
       "3.3333333333333335"
      ]
     },
     "execution_count": 15,
     "metadata": {},
     "output_type": "execute_result"
    }
   ],
   "source": [
    "200/60\n"
   ]
  },
  {
   "cell_type": "markdown",
   "id": "6f2cc65b-0c66-40f0-97d6-e4b58ac87037",
   "metadata": {},
   "source": [
    "##### Converting 200 Minutes to 3.333 Hours"
   ]
  },
  {
   "cell_type": "markdown",
   "id": "659c8943-9605-41d3-a27b-7ecfcdf86545",
   "metadata": {},
   "source": [
    "## Author\n",
    "Sukruth"
   ]
  },
  {
   "cell_type": "code",
   "execution_count": null,
   "id": "581944c7-80d2-4688-b440-2a16e24a9779",
   "metadata": {},
   "outputs": [],
   "source": []
  }
 ],
 "metadata": {
  "kernelspec": {
   "display_name": "Python [conda env:anaconda3]",
   "language": "python",
   "name": "conda-env-anaconda3-py"
  },
  "language_info": {
   "codemirror_mode": {
    "name": "ipython",
    "version": 3
   },
   "file_extension": ".py",
   "mimetype": "text/x-python",
   "name": "python",
   "nbconvert_exporter": "python",
   "pygments_lexer": "ipython3",
   "version": "3.13.5"
  }
 },
 "nbformat": 4,
 "nbformat_minor": 5
}
